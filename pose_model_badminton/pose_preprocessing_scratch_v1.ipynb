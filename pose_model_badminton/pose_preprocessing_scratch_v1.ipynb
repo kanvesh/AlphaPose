{
 "cells": [
  {
   "cell_type": "code",
   "execution_count": null,
   "metadata": {},
   "outputs": [],
   "source": [
    "import pandas as pd\n",
    "import numpy as np\n",
    "import os"
   ]
  },
  {
   "cell_type": "code",
   "execution_count": null,
   "metadata": {},
   "outputs": [],
   "source": [
    "df = pd.read_json('../output/badm004/badminton004_clip_00000197/alphapose-results.json')"
   ]
  },
  {
   "cell_type": "code",
   "execution_count": null,
   "metadata": {
    "scrolled": true
   },
   "outputs": [],
   "source": [
    "df.head()\n"
   ]
  },
  {
   "cell_type": "code",
   "execution_count": null,
   "metadata": {
    "scrolled": true
   },
   "outputs": [],
   "source": [
    "df.keypoints[0]"
   ]
  },
  {
   "cell_type": "code",
   "execution_count": null,
   "metadata": {
    "scrolled": true
   },
   "outputs": [],
   "source": [
    "df[['image_id','score']].head()"
   ]
  },
  {
   "cell_type": "code",
   "execution_count": null,
   "metadata": {},
   "outputs": [],
   "source": [
    "coco_format ={   0:\"Nose\",\n",
    "    1:\"LEye\",\n",
    "    2:\"REye\",\n",
    "    3:\"LEar\",\n",
    "    4:\"REar\",\n",
    "    5:\"LShoulder\",\n",
    "    6:  \"RShoulder\",\n",
    "    7:  \"LElbow\",\n",
    "    8:  \"RElbow\",\n",
    "    9:  \"LWrist\",\n",
    "    10: \"RWrist\",\n",
    "    11: \"LHip\",\n",
    "    12: \"RHip\",\n",
    "    13: \"LKnee\",\n",
    "    14: \"Rknee\",\n",
    "    15: \"LAnkle\",\n",
    "    16: \"RAnkle\"}"
   ]
  },
  {
   "cell_type": "code",
   "execution_count": null,
   "metadata": {},
   "outputs": [],
   "source": [
    "coco_format_flip = {v:k for k,v in coco_format.items()}"
   ]
  },
  {
   "cell_type": "code",
   "execution_count": null,
   "metadata": {},
   "outputs": [],
   "source": [
    "def get_3_tuples(keypoints):\n",
    "    tuples=[]\n",
    "    for i in range(int(len(keypoints)/3)):\n",
    "        tuples.append((keypoints[3*i],keypoints[3*i+1],keypoints[3*i+2]))\n",
    "    return tuples"
   ]
  },
  {
   "cell_type": "code",
   "execution_count": null,
   "metadata": {},
   "outputs": [],
   "source": [
    "get_3_tuples(df.keypoints[0])"
   ]
  },
  {
   "cell_type": "code",
   "execution_count": null,
   "metadata": {},
   "outputs": [],
   "source": [
    "def get_width(keypoints):\n",
    "    tuples = get_3_tuples(keypoints)\n",
    "    xs = [i[0] for i in tuples]\n",
    "    return np.max(xs) - np.min(xs)"
   ]
  },
  {
   "cell_type": "code",
   "execution_count": null,
   "metadata": {},
   "outputs": [],
   "source": [
    "def get_height(keypoints):\n",
    "    tuples = get_3_tuples(keypoints)\n",
    "    ys = [i[1] for i in tuples]\n",
    "    return np.max(ys) - np.min(ys)"
   ]
  },
  {
   "cell_type": "code",
   "execution_count": null,
   "metadata": {},
   "outputs": [],
   "source": [
    "get_width(df.keypoints[0])"
   ]
  },
  {
   "cell_type": "code",
   "execution_count": null,
   "metadata": {},
   "outputs": [],
   "source": [
    "get_height(df.keypoints[0])"
   ]
  },
  {
   "cell_type": "code",
   "execution_count": null,
   "metadata": {},
   "outputs": [],
   "source": [
    "def normalize_tuples(keypoints):\n",
    "    tuples = get_3_tuples(keypoints)\n",
    "    xs = [i[0] for i in tuples]\n",
    "    ys = [i[1] for i in tuples]\n",
    "    centre = ((np.max(xs)+np.min(xs))/2,(np.max(ys)+np.min(ys))/2)\n",
    "    for i in range(len(tuples)):\n",
    "        tuples[i]=(tuples[i][0]-centre[0],tuples[i][1]-centre[1],tuples[i][2])\n",
    "\n",
    "    return tuples"
   ]
  },
  {
   "cell_type": "code",
   "execution_count": null,
   "metadata": {},
   "outputs": [],
   "source": [
    "def normalize_keypoints(keypoints):\n",
    "    tuples = get_3_tuples(keypoints)\n",
    "    xs = [i[0] for i in tuples]\n",
    "    ys = [i[1] for i in tuples]\n",
    "    centre = ((np.max(xs)+np.min(xs))/2,(np.max(ys)+np.min(ys))/2)\n",
    "    for i in range(len(tuples)):\n",
    "        tuples[i]=(tuples[i][0]-centre[0],tuples[i][1]-centre[1],tuples[i][2])\n",
    "\n",
    "    return [i for tuple in tuples for i in tuple]"
   ]
  },
  {
   "cell_type": "code",
   "execution_count": null,
   "metadata": {},
   "outputs": [],
   "source": [
    "normalize_tuples(df.keypoints[0])"
   ]
  },
  {
   "cell_type": "code",
   "execution_count": null,
   "metadata": {},
   "outputs": [],
   "source": [
    "a=get_3_tuples(df.keypoints[0])"
   ]
  },
  {
   "cell_type": "code",
   "execution_count": null,
   "metadata": {},
   "outputs": [],
   "source": [
    "df['normalized_tuples'] = df.keypoints.apply(normalize_tuples)"
   ]
  },
  {
   "cell_type": "code",
   "execution_count": null,
   "metadata": {},
   "outputs": [],
   "source": [
    "df.head()"
   ]
  },
  {
   "cell_type": "code",
   "execution_count": null,
   "metadata": {},
   "outputs": [],
   "source": [
    "type(df.normalized_tuples[0])"
   ]
  },
  {
   "cell_type": "code",
   "execution_count": null,
   "metadata": {},
   "outputs": [],
   "source": [
    "type(df.normalized_tuples[0][1])"
   ]
  },
  {
   "cell_type": "code",
   "execution_count": null,
   "metadata": {},
   "outputs": [],
   "source": [
    "df['width'] = df.keypoints.apply(get_width)"
   ]
  },
  {
   "cell_type": "code",
   "execution_count": null,
   "metadata": {},
   "outputs": [],
   "source": [
    "df['height'] = df.keypoints.apply(get_height)"
   ]
  },
  {
   "cell_type": "code",
   "execution_count": null,
   "metadata": {},
   "outputs": [],
   "source": [
    "def get_part_position(bodypart, keypoints, normalize=True):\n",
    "    tuples = get_3_tuples(keypoints)\n",
    "    if normalize:\n",
    "        tuples = normalize_tuples(keypoints)\n",
    "    try:\n",
    "        return tuples[coco_format_flip[bodypart]][0:2]\n",
    "    except:\n",
    "        print('Something wrong')"
   ]
  },
  {
   "cell_type": "code",
   "execution_count": null,
   "metadata": {},
   "outputs": [],
   "source": [
    "get_part_position('Nose',df.keypoints[0])"
   ]
  },
  {
   "cell_type": "code",
   "execution_count": null,
   "metadata": {},
   "outputs": [],
   "source": [
    "get_part_position('LAnkle',df.keypoints[0])"
   ]
  },
  {
   "cell_type": "code",
   "execution_count": null,
   "metadata": {},
   "outputs": [],
   "source": [
    "import math\n",
    "math.atan2(-0.1,-1)"
   ]
  },
  {
   "cell_type": "code",
   "execution_count": null,
   "metadata": {},
   "outputs": [],
   "source": [
    "v1= tuple(np.subtract(get_part_position('Nose',df.keypoints[0]),get_part_position('LHip',df.keypoints[0])))"
   ]
  },
  {
   "cell_type": "code",
   "execution_count": null,
   "metadata": {},
   "outputs": [],
   "source": [
    "v2= tuple(np.subtract(get_part_position('LHip',df.keypoints[0]),get_part_position('LAnkle',df.keypoints[0])))"
   ]
  },
  {
   "cell_type": "code",
   "execution_count": null,
   "metadata": {},
   "outputs": [],
   "source": [
    "v1,v2"
   ]
  },
  {
   "cell_type": "code",
   "execution_count": null,
   "metadata": {},
   "outputs": [],
   "source": [
    "def get_angle_vector(v1,v2):\n",
    "    x1=v1[0]\n",
    "    y1=v1[1]\n",
    "    x2=v2[0]\n",
    "    y2=v2[1]\n",
    "    angle = 180*(math.atan2(y1,x1)-math.atan2(y2,x2))/3.1417\n",
    "    return abs(angle)"
   ]
  },
  {
   "cell_type": "code",
   "execution_count": null,
   "metadata": {},
   "outputs": [],
   "source": [
    "get_angle_vector(v1,v2)"
   ]
  },
  {
   "cell_type": "code",
   "execution_count": null,
   "metadata": {},
   "outputs": [],
   "source": [
    "def get_angle_at_hip(keypoints):\n",
    "    nose = get_part_position('Nose',keypoints)\n",
    "    LHip = get_part_position('LHip',keypoints)\n",
    "    LAnkle = get_part_position('LAnkle',keypoints)\n",
    "    RHip = get_part_position('RHip',keypoints)\n",
    "    RAnkle = get_part_position('RAnkle',keypoints)\n",
    "                               \n",
    "    v1= tuple(np.subtract(nose,LHip))\n",
    "    v2= tuple(np.subtract(LHip,LAnkle))\n",
    "    left_angle = get_angle_vector(v1,v2)\n",
    "                               \n",
    "    v1= tuple(np.subtract(nose,RHip))\n",
    "    v2= tuple(np.subtract(RHip,RAnkle))\n",
    "    right_angle = get_angle_vector(v1,v2)\n",
    "    return left_angle+right_angle\n",
    "    "
   ]
  },
  {
   "cell_type": "code",
   "execution_count": null,
   "metadata": {},
   "outputs": [],
   "source": [
    "def is_person_standing_straight(keypoints):\n",
    "    if get_angle_at_hip(keypoints)<60:\n",
    "        return 1\n",
    "    else:\n",
    "        return 0"
   ]
  },
  {
   "cell_type": "code",
   "execution_count": null,
   "metadata": {},
   "outputs": [],
   "source": [
    "is_person_standing_straight(df.keypoints[0])"
   ]
  },
  {
   "cell_type": "code",
   "execution_count": null,
   "metadata": {},
   "outputs": [],
   "source": [
    "df['is_person_standing'] = df.keypoints.apply(is_person_standing_straight)"
   ]
  },
  {
   "cell_type": "code",
   "execution_count": null,
   "metadata": {},
   "outputs": [],
   "source": [
    "df['angle_at_hip'] = df.keypoints.apply(get_angle_at_hip)"
   ]
  },
  {
   "cell_type": "code",
   "execution_count": null,
   "metadata": {},
   "outputs": [],
   "source": [
    "df.head()"
   ]
  },
  {
   "cell_type": "code",
   "execution_count": null,
   "metadata": {},
   "outputs": [],
   "source": [
    "df.groupby('is_person_standing').count()"
   ]
  },
  {
   "cell_type": "code",
   "execution_count": null,
   "metadata": {},
   "outputs": [],
   "source": [
    "df.groupby('is_person_standing').width.mean()"
   ]
  },
  {
   "cell_type": "code",
   "execution_count": null,
   "metadata": {},
   "outputs": [],
   "source": [
    "df[df.is_person_standing==1]"
   ]
  },
  {
   "cell_type": "code",
   "execution_count": null,
   "metadata": {},
   "outputs": [],
   "source": [
    "df[df.is_person_standing==1].normalized_tuples[7]"
   ]
  },
  {
   "cell_type": "code",
   "execution_count": null,
   "metadata": {},
   "outputs": [],
   "source": [
    "df[df.image_id=='0.jpg']"
   ]
  },
  {
   "cell_type": "code",
   "execution_count": null,
   "metadata": {},
   "outputs": [],
   "source": [
    "df.shape"
   ]
  },
  {
   "cell_type": "code",
   "execution_count": null,
   "metadata": {},
   "outputs": [],
   "source": []
  },
  {
   "cell_type": "code",
   "execution_count": null,
   "metadata": {},
   "outputs": [],
   "source": []
  },
  {
   "cell_type": "code",
   "execution_count": null,
   "metadata": {},
   "outputs": [],
   "source": []
  },
  {
   "cell_type": "code",
   "execution_count": null,
   "metadata": {},
   "outputs": [],
   "source": []
  },
  {
   "cell_type": "code",
   "execution_count": null,
   "metadata": {},
   "outputs": [],
   "source": []
  },
  {
   "cell_type": "code",
   "execution_count": null,
   "metadata": {},
   "outputs": [],
   "source": []
  },
  {
   "cell_type": "code",
   "execution_count": null,
   "metadata": {},
   "outputs": [],
   "source": []
  },
  {
   "cell_type": "code",
   "execution_count": null,
   "metadata": {},
   "outputs": [],
   "source": []
  },
  {
   "cell_type": "code",
   "execution_count": null,
   "metadata": {},
   "outputs": [],
   "source": []
  },
  {
   "cell_type": "code",
   "execution_count": null,
   "metadata": {},
   "outputs": [],
   "source": []
  },
  {
   "cell_type": "code",
   "execution_count": null,
   "metadata": {
    "scrolled": true
   },
   "outputs": [],
   "source": [
    "df_concat=pd.DataFrame()\n",
    "for i in os.listdir('../output/badm004/'):\n",
    "    path = '../output/badm004/'+i+'/alphapose-results.json'\n",
    "    df = pd.read_json(path)\n",
    "    df['clip']=str(i)\n",
    "    df['normalized_tuples'] = df.keypoints.apply(normalize_tuples)\n",
    "    df['normalized_keypoints'] = df.keypoints.apply(normalize_keypoints)\n",
    "    df['width'] = df.keypoints.apply(get_width)\n",
    "    df['height'] = df.keypoints.apply(get_height)\n",
    "    df['angle_at_hip'] = df.keypoints.apply(get_angle_at_hip)\n",
    "    df['is_person_standing'] = df.keypoints.apply(is_person_standing_straight)\n",
    "    df_concat = df_concat.append(df)\n",
    "    print(df_concat.shape)"
   ]
  },
  {
   "cell_type": "code",
   "execution_count": null,
   "metadata": {
    "scrolled": true
   },
   "outputs": [],
   "source": [
    "df_concat.groupby(['clip']).is_person_standing.mean()"
   ]
  },
  {
   "cell_type": "code",
   "execution_count": null,
   "metadata": {
    "scrolled": true
   },
   "outputs": [],
   "source": [
    "df_concat[df_concat.height>30].groupby(['clip']).is_person_standing.sum()"
   ]
  },
  {
   "cell_type": "code",
   "execution_count": null,
   "metadata": {
    "scrolled": true
   },
   "outputs": [],
   "source": [
    "df_concat[df_concat.height>30].groupby(['clip','image_id']).is_person_standing.count()"
   ]
  },
  {
   "cell_type": "code",
   "execution_count": null,
   "metadata": {},
   "outputs": [],
   "source": [
    "#df_concat = df_concat[df_concat.height>40]"
   ]
  },
  {
   "cell_type": "code",
   "execution_count": null,
   "metadata": {},
   "outputs": [],
   "source": [
    "res = pd.read_json('../output/badminton004.json')"
   ]
  },
  {
   "cell_type": "code",
   "execution_count": null,
   "metadata": {},
   "outputs": [],
   "source": [
    "play_clips = [i.split('\\\\')[-1].split('.')[0] for i in res.video]"
   ]
  },
  {
   "cell_type": "code",
   "execution_count": null,
   "metadata": {},
   "outputs": [],
   "source": [
    "play_clips"
   ]
  },
  {
   "cell_type": "code",
   "execution_count": null,
   "metadata": {},
   "outputs": [],
   "source": [
    "df_concat['play'] = [1 if i in play_clips else 0 for i in df_concat['clip']  ]"
   ]
  },
  {
   "cell_type": "code",
   "execution_count": null,
   "metadata": {},
   "outputs": [],
   "source": [
    "df_concat.groupby('play').image_id.count()"
   ]
  },
  {
   "cell_type": "code",
   "execution_count": null,
   "metadata": {},
   "outputs": [],
   "source": [
    "df_concat.groupby('play').is_person_standing.mean()"
   ]
  },
  {
   "cell_type": "code",
   "execution_count": null,
   "metadata": {},
   "outputs": [],
   "source": [
    "df_concat.groupby('play').angle_at_hip.mean()"
   ]
  },
  {
   "cell_type": "code",
   "execution_count": null,
   "metadata": {
    "scrolled": true
   },
   "outputs": [],
   "source": [
    "df_concat.groupby(['clip','image_id']).is_person_standing.sum()"
   ]
  },
  {
   "cell_type": "code",
   "execution_count": null,
   "metadata": {},
   "outputs": [],
   "source": [
    "df_concat= df_concat.sort_values(by=['image_id', 'height'],ascending=False).drop_duplicates(['clip','image_id'])"
   ]
  },
  {
   "cell_type": "code",
   "execution_count": null,
   "metadata": {},
   "outputs": [],
   "source": [
    "df_concat.shape"
   ]
  },
  {
   "cell_type": "code",
   "execution_count": null,
   "metadata": {},
   "outputs": [],
   "source": [
    "df_concat"
   ]
  },
  {
   "cell_type": "code",
   "execution_count": null,
   "metadata": {},
   "outputs": [],
   "source": [
    "df_concat.groupby('play').angle_at_hip.mean()"
   ]
  },
  {
   "cell_type": "code",
   "execution_count": null,
   "metadata": {},
   "outputs": [],
   "source": [
    "df_concat.sort_values(by=['clip', 'image_id'])"
   ]
  },
  {
   "cell_type": "code",
   "execution_count": null,
   "metadata": {},
   "outputs": [],
   "source": [
    "X_mat = np.vstack( (df_concat.normalized_keypoints))"
   ]
  },
  {
   "cell_type": "code",
   "execution_count": null,
   "metadata": {},
   "outputs": [],
   "source": [
    "X_mat.shape"
   ]
  },
  {
   "cell_type": "code",
   "execution_count": null,
   "metadata": {},
   "outputs": [],
   "source": [
    "y= df_concat.play\n"
   ]
  },
  {
   "cell_type": "code",
   "execution_count": null,
   "metadata": {},
   "outputs": [],
   "source": [
    "len(y)"
   ]
  },
  {
   "cell_type": "code",
   "execution_count": null,
   "metadata": {},
   "outputs": [],
   "source": [
    "from sklearn.model_selection import GroupShuffleSplit\n",
    "gss = GroupShuffleSplit(n_splits=10, test_size=0.2, random_state=13)\n",
    "data_split = gss.split(X_mat, y, groups = df_concat['clip'])\n",
    "train_ids, test_ids = next(data_split)"
   ]
  },
  {
   "cell_type": "code",
   "execution_count": null,
   "metadata": {},
   "outputs": [],
   "source": [
    "len(train_ids)"
   ]
  },
  {
   "cell_type": "code",
   "execution_count": null,
   "metadata": {},
   "outputs": [],
   "source": [
    "train_ids"
   ]
  },
  {
   "cell_type": "code",
   "execution_count": null,
   "metadata": {},
   "outputs": [],
   "source": [
    "len(test_ids)"
   ]
  },
  {
   "cell_type": "code",
   "execution_count": null,
   "metadata": {},
   "outputs": [],
   "source": [
    "from sklearn.model_selection import train_test_split\n",
    "#X_train, X_test, y_train, y_test = train_test_split(X_mat, y)\n",
    "X_train, X_test, y_train, y_test = X_mat[train_ids],X_mat[test_ids],np.array(y)[train_ids],np.array(y)[test_ids]                                                                                  "
   ]
  },
  {
   "cell_type": "code",
   "execution_count": null,
   "metadata": {},
   "outputs": [],
   "source": [
    "X_train.shape"
   ]
  },
  {
   "cell_type": "code",
   "execution_count": null,
   "metadata": {},
   "outputs": [],
   "source": [
    "y_train.shape"
   ]
  },
  {
   "cell_type": "code",
   "execution_count": null,
   "metadata": {},
   "outputs": [],
   "source": [
    "X_test.shape"
   ]
  },
  {
   "cell_type": "code",
   "execution_count": null,
   "metadata": {},
   "outputs": [],
   "source": [
    "y_test.shape"
   ]
  },
  {
   "cell_type": "code",
   "execution_count": null,
   "metadata": {},
   "outputs": [],
   "source": [
    "from sklearn.ensemble import RandomForestClassifier as rfc"
   ]
  },
  {
   "cell_type": "code",
   "execution_count": null,
   "metadata": {},
   "outputs": [],
   "source": [
    "clf = rfc()\n",
    "clf.fit(X_train,y_train)"
   ]
  },
  {
   "cell_type": "code",
   "execution_count": null,
   "metadata": {},
   "outputs": [],
   "source": [
    "pred = clf.predict(X_test)\n",
    "pred_proba = clf.predict_proba(X_test)\n",
    "pred_proba_1 = pred_proba[:,1]"
   ]
  },
  {
   "cell_type": "code",
   "execution_count": null,
   "metadata": {},
   "outputs": [],
   "source": [
    "len(pred_proba_1)"
   ]
  },
  {
   "cell_type": "code",
   "execution_count": null,
   "metadata": {},
   "outputs": [],
   "source": [
    "from sklearn.metrics import confusion_matrix\n",
    "confusion_matrix(y_test,pred)"
   ]
  },
  {
   "cell_type": "code",
   "execution_count": null,
   "metadata": {},
   "outputs": [],
   "source": [
    "sum([pred[i]==list(y_test)[i] for i in range(len(pred))])"
   ]
  },
  {
   "cell_type": "code",
   "execution_count": null,
   "metadata": {},
   "outputs": [],
   "source": [
    "len(pred)"
   ]
  },
  {
   "cell_type": "code",
   "execution_count": null,
   "metadata": {},
   "outputs": [],
   "source": [
    "pred"
   ]
  },
  {
   "cell_type": "code",
   "execution_count": null,
   "metadata": {},
   "outputs": [],
   "source": []
  },
  {
   "cell_type": "code",
   "execution_count": null,
   "metadata": {},
   "outputs": [],
   "source": []
  },
  {
   "cell_type": "code",
   "execution_count": null,
   "metadata": {},
   "outputs": [],
   "source": []
  },
  {
   "cell_type": "code",
   "execution_count": null,
   "metadata": {},
   "outputs": [],
   "source": []
  },
  {
   "cell_type": "code",
   "execution_count": null,
   "metadata": {},
   "outputs": [],
   "source": []
  },
  {
   "cell_type": "code",
   "execution_count": null,
   "metadata": {},
   "outputs": [],
   "source": []
  },
  {
   "cell_type": "code",
   "execution_count": null,
   "metadata": {},
   "outputs": [],
   "source": []
  },
  {
   "cell_type": "code",
   "execution_count": null,
   "metadata": {},
   "outputs": [],
   "source": []
  },
  {
   "cell_type": "code",
   "execution_count": null,
   "metadata": {},
   "outputs": [],
   "source": []
  },
  {
   "cell_type": "code",
   "execution_count": null,
   "metadata": {
    "scrolled": true
   },
   "outputs": [],
   "source": [
    "df_concat=pd.DataFrame()\n",
    "for i in os.listdir('../output/badm001/'):\n",
    "    try:\n",
    "        print(i)\n",
    "        path = '../output/badm001/'+i+'/alphapose-results.json'\n",
    "        df = pd.read_json(path)\n",
    "        df['clip']=str(i)\n",
    "        df['normalized_tuples'] = df.keypoints.apply(normalize_tuples)\n",
    "        df['normalized_keypoints'] = df.keypoints.apply(normalize_keypoints)\n",
    "        df['width'] = df.keypoints.apply(get_width)\n",
    "        df['height'] = df.keypoints.apply(get_height)\n",
    "        df['angle_at_hip'] = df.keypoints.apply(get_angle_at_hip)\n",
    "        df['is_person_standing'] = df.keypoints.apply(is_person_standing_straight)\n",
    "        df_concat = df_concat.append(df)\n",
    "        print(df_concat.shape)\n",
    "    except:\n",
    "        pass"
   ]
  },
  {
   "cell_type": "code",
   "execution_count": null,
   "metadata": {},
   "outputs": [],
   "source": [
    "df_concat"
   ]
  },
  {
   "cell_type": "code",
   "execution_count": null,
   "metadata": {},
   "outputs": [],
   "source": [
    "df_concat= df_concat.sort_values(by=['image_id', 'height'],ascending=False).drop_duplicates(['clip','image_id'])"
   ]
  },
  {
   "cell_type": "code",
   "execution_count": null,
   "metadata": {},
   "outputs": [],
   "source": [
    "X_mat = np.vstack( (df_concat.normalized_keypoints))"
   ]
  },
  {
   "cell_type": "code",
   "execution_count": null,
   "metadata": {},
   "outputs": [],
   "source": [
    "pred = clf.predict(X_mat)\n",
    "pred"
   ]
  },
  {
   "cell_type": "code",
   "execution_count": null,
   "metadata": {},
   "outputs": [],
   "source": [
    "df_concat['pred']= pred"
   ]
  },
  {
   "cell_type": "code",
   "execution_count": null,
   "metadata": {},
   "outputs": [],
   "source": [
    "len(pred)"
   ]
  },
  {
   "cell_type": "code",
   "execution_count": null,
   "metadata": {
    "scrolled": true
   },
   "outputs": [],
   "source": [
    "res = df_concat.groupby(['clip']).pred.mean()\n",
    "res"
   ]
  },
  {
   "cell_type": "code",
   "execution_count": null,
   "metadata": {},
   "outputs": [],
   "source": [
    "list(res.index[res>0.1])"
   ]
  },
  {
   "cell_type": "code",
   "execution_count": null,
   "metadata": {},
   "outputs": [],
   "source": [
    "act = pd.read_json('../output/badminton001.json')"
   ]
  },
  {
   "cell_type": "code",
   "execution_count": null,
   "metadata": {},
   "outputs": [],
   "source": [
    "act_play_clips = [i.split('\\\\')[-1].split('.')[0].split('_')[-1] for i in act.video]"
   ]
  },
  {
   "cell_type": "code",
   "execution_count": null,
   "metadata": {},
   "outputs": [],
   "source": [
    "act_play_clips"
   ]
  },
  {
   "cell_type": "code",
   "execution_count": null,
   "metadata": {},
   "outputs": [],
   "source": [
    "sum([1 if i in act_play_clips else 0 for i in [i.split('_')[-1] for i in res.index[res>0.05]]])"
   ]
  },
  {
   "cell_type": "code",
   "execution_count": null,
   "metadata": {},
   "outputs": [],
   "source": [
    "res.index[res>0.05].shape"
   ]
  },
  {
   "cell_type": "code",
   "execution_count": null,
   "metadata": {},
   "outputs": [],
   "source": [
    "sum([1 if i in act_play_clips else 0 for i in [i.split('_')[-1] for i in res.index]])"
   ]
  },
  {
   "cell_type": "code",
   "execution_count": null,
   "metadata": {},
   "outputs": [],
   "source": [
    "res.index.shape"
   ]
  },
  {
   "cell_type": "code",
   "execution_count": null,
   "metadata": {},
   "outputs": [],
   "source": [
    "res.sort_values()"
   ]
  },
  {
   "cell_type": "code",
   "execution_count": null,
   "metadata": {},
   "outputs": [],
   "source": [
    "res.sort_values(ascending=False)"
   ]
  },
  {
   "cell_type": "code",
   "execution_count": null,
   "metadata": {},
   "outputs": [],
   "source": [
    "f= open(\"clipslist.txt\",\"w+\")\n",
    "\n",
    "for i in list(res.index[res>0.1]):\n",
    "    print(i)\n",
    "    try:\n",
    "        f.write(\"file \"+\"../output/clips_badminton001/\"+i+\".mp4\\n\")\n",
    "    except:\n",
    "        pass\n",
    "f.close()\n",
    "\n",
    "#os.system('ffmpeg -f concat -safe 0 -i clipslist.txt -c copy highlights.mp4')\n",
    "\n",
    "#os.system('rm clipslist.txt')\n"
   ]
  },
  {
   "cell_type": "code",
   "execution_count": 1,
   "metadata": {},
   "outputs": [
    {
     "name": "stdout",
     "output_type": "stream",
     "text": [
      "ffmpeg version 2.8.15-0ubuntu0.16.04.1 Copyright (c) 2000-2018 the FFmpeg developers\n",
      "  built with gcc 5.4.0 (Ubuntu 5.4.0-6ubuntu1~16.04.10) 20160609\n",
      "  configuration: --prefix=/usr --extra-version=0ubuntu0.16.04.1 --build-suffix=-ffmpeg --toolchain=hardened --libdir=/usr/lib/x86_64-linux-gnu --incdir=/usr/include/x86_64-linux-gnu --cc=cc --cxx=g++ --enable-gpl --enable-shared --disable-stripping --disable-decoder=libopenjpeg --disable-decoder=libschroedinger --enable-avresample --enable-avisynth --enable-gnutls --enable-ladspa --enable-libass --enable-libbluray --enable-libbs2b --enable-libcaca --enable-libcdio --enable-libflite --enable-libfontconfig --enable-libfreetype --enable-libfribidi --enable-libgme --enable-libgsm --enable-libmodplug --enable-libmp3lame --enable-libopenjpeg --enable-libopus --enable-libpulse --enable-librtmp --enable-libschroedinger --enable-libshine --enable-libsnappy --enable-libsoxr --enable-libspeex --enable-libssh --enable-libtheora --enable-libtwolame --enable-libvorbis --enable-libvpx --enable-libwavpack --enable-libwebp --enable-libx265 --enable-libxvid --enable-libzvbi --enable-openal --enable-opengl --enable-x11grab --enable-libdc1394 --enable-libiec61883 --enable-libzmq --enable-frei0r --enable-libx264 --enable-libopencv\n",
      "  libavutil      54. 31.100 / 54. 31.100\n",
      "  libavcodec     56. 60.100 / 56. 60.100\n",
      "  libavformat    56. 40.101 / 56. 40.101\n",
      "  libavdevice    56.  4.100 / 56.  4.100\n",
      "  libavfilter     5. 40.101 /  5. 40.101\n",
      "  libavresample   2.  1.  0 /  2.  1.  0\n",
      "  libswscale      3.  1.101 /  3.  1.101\n",
      "  libswresample   1.  2.101 /  1.  2.101\n",
      "  libpostproc    53.  3.100 / 53.  3.100\n",
      "\u001b[0;36m[mjpeg @ 0xad2920] \u001b[0mChangeing bps to 8\n",
      "Input #0, concat, from 'clipslist.txt':\n",
      "  Duration: N/A, start: 0.000000, bitrate: 3110 kb/s\n",
      "    Stream #0:0(und): Video: mjpeg (mp4v / 0x7634706D), yuvj420p(pc, bt470bg/unknown/unknown), 320x180, 3110 kb/s, 29.97 fps, 29.97 tbr, 11988 tbn, 11988 tbc\n",
      "    Metadata:\n",
      "      handler_name    : VideoHandler\n",
      "\u001b[1;35m[mp4 @ 0xadc600] \u001b[0m\u001b[0;33mCodec for stream 0 does not use global headers but container format requires global headers\n",
      "\u001b[0mOutput #0, mp4, to 'highlights.mp4':\n",
      "  Metadata:\n",
      "    encoder         : Lavf56.40.101\n",
      "    Stream #0:0(und): Video: mjpeg (l[0][0][0] / 0x006C), yuvj420p, 320x180, q=2-31, 3110 kb/s, 29.97 fps, 29.97 tbr, 11988 tbn, 11988 tbc\n",
      "    Metadata:\n",
      "      handler_name    : VideoHandler\n",
      "Stream mapping:\n",
      "  Stream #0:0 -> #0:0 (copy)\n",
      "Press [q] to stop, [?] for help\n",
      "\u001b[0;36m[mjpeg @ 0xad3760] \u001b[0mChangeing bps to 8\n",
      "    Last message repeated 45 times\n",
      "\u001b[0;36m[mjpeg @ 0xad3760] \u001b[0mChangeing bps to 800:01:34.10 bitrate=2947.6kbits/s    \n",
      "    Last message repeated 23 times\n",
      "\u001b[0;36m[mjpeg @ 0xad3760] \u001b[0mChangeing bps to 8=00:02:21.51 bitrate=2942.7kbits/s    \n",
      "    Last message repeated 22 times\n",
      "\u001b[0;36m[mjpeg @ 0xad3760] \u001b[0mChangeing bps to 8=00:03:07.24 bitrate=2963.4kbits/s    \n",
      "    Last message repeated 21 times\n",
      "\u001b[0;36m[mjpeg @ 0xad3760] \u001b[0mChangeing bps to 8=00:03:51.54 bitrate=2977.9kbits/s    \n",
      "    Last message repeated 22 times\n",
      "frame= 8340 fps=3365 q=-1.0 Lsize=  102765kB time=00:04:38.38 bitrate=3024.1kbits/s    \n",
      "video:102728kB audio:0kB subtitle:0kB other streams:0kB global headers:0kB muxing overhead: 0.035786%\n"
     ]
    }
   ],
   "source": [
    "!ffmpeg -f concat -safe 0 -i clipslist.txt -c copy highlights.mp4"
   ]
  },
  {
   "cell_type": "code",
   "execution_count": 2,
   "metadata": {},
   "outputs": [
    {
     "ename": "NameError",
     "evalue": "name 'res' is not defined",
     "output_type": "error",
     "traceback": [
      "\u001b[0;31m---------------------------------------------------------------------------\u001b[0m",
      "\u001b[0;31mNameError\u001b[0m                                 Traceback (most recent call last)",
      "\u001b[0;32m<ipython-input-2-c08785e04264>\u001b[0m in \u001b[0;36m<module>\u001b[0;34m\u001b[0m\n\u001b[0;32m----> 1\u001b[0;31m \u001b[0mres\u001b[0m\u001b[0;34m\u001b[0m\u001b[0;34m\u001b[0m\u001b[0m\n\u001b[0m",
      "\u001b[0;31mNameError\u001b[0m: name 'res' is not defined"
     ]
    }
   ],
   "source": [
    "res"
   ]
  },
  {
   "cell_type": "code",
   "execution_count": null,
   "metadata": {},
   "outputs": [],
   "source": []
  }
 ],
 "metadata": {
  "kernelspec": {
   "display_name": "Python 3",
   "language": "python",
   "name": "python3"
  },
  "language_info": {
   "codemirror_mode": {
    "name": "ipython",
    "version": 3
   },
   "file_extension": ".py",
   "mimetype": "text/x-python",
   "name": "python",
   "nbconvert_exporter": "python",
   "pygments_lexer": "ipython3",
   "version": "3.7.3"
  }
 },
 "nbformat": 4,
 "nbformat_minor": 2
}
